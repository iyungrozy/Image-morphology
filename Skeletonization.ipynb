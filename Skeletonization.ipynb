{
  "cells": [
    {
      "cell_type": "markdown",
      "metadata": {
        "id": "view-in-github",
        "colab_type": "text"
      },
      "source": [
        "<a href=\"https://colab.research.google.com/github/iyungrozy/Image-morphology/blob/main/Skeletonization.ipynb\" target=\"_parent\"><img src=\"https://colab.research.google.com/assets/colab-badge.svg\" alt=\"Open In Colab\"/></a>"
      ]
    },
    {
      "cell_type": "markdown",
      "source": [
        "# Skeletonization Objective\n",
        "To implement the Zhang-Suen algorithm for image skeletonization and extract a one-pixel wide representation of the object's shape.\n",
        "\n",
        "Menerapkan algoritma Zhang-Suen untuk skeletonisasi citra biner dan menghasilkan representasi satu piksel dari bentuk objek."
      ],
      "metadata": {
        "id": "WmbN0IHGbs3q"
      }
    },
    {
      "cell_type": "code",
      "execution_count": null,
      "metadata": {
        "id": "7VQ85K-vQ3tL"
      },
      "outputs": [],
      "source": [
        "import cv2\n",
        "import numpy as np\n",
        "from matplotlib import pyplot as plt\n",
        "# import urllib.request"
      ]
    },
    {
      "cell_type": "markdown",
      "source": [
        "# Image Loading:\n",
        "\n",
        "Read a binary image img in grayscale format (0 for background, other values for the object).\n",
        "Define a structuring element element (e.g., a 3x3 cross shape) for erosion and dilation operations.\n",
        "\n",
        "insert BW.png or any example image with same folder"
      ],
      "metadata": {
        "id": "AsRlQpkucXds"
      }
    },
    {
      "cell_type": "markdown",
      "source": [
        "\n",
        "\n",
        "# URL image\n",
        "\n",
        "```\n",
        "def get_image_from_url(url):\n",
        "  resp = urllib.request.urlopen(url)\n",
        "  image = np.asarray(bytearray(resp.read()), dtype=\"uint8\")\n",
        "  image = cv2.imdecode(image, cv2.IMREAD_GRAYSCALE)\n",
        "  return image\n",
        "\n",
        "# Example usage\n",
        "image_url = \"https://www.example.com/image.jpg\"  # Replace with your image URL\n",
        "img = get_image_from_url(image_url)\n",
        "```\n",
        "\n",
        "\n",
        "\n"
      ],
      "metadata": {
        "id": "qpgqkNWxlfV4"
      }
    },
    {
      "cell_type": "code",
      "execution_count": null,
      "metadata": {
        "id": "trIzXPi0Q3tM"
      },
      "outputs": [],
      "source": [
        "# Load the image\n",
        "img = cv2.imread('BW.png', 0)"
      ]
    },
    {
      "cell_type": "markdown",
      "source": [
        "image processing refers to the process of converting a grayscale or color image into a binary image"
      ],
      "metadata": {
        "id": "ZDmblauOmR5M"
      }
    },
    {
      "cell_type": "code",
      "source": [
        "# Binarize the image\n",
        "_, binary = cv2.threshold(img, 127, 255, cv2.THRESH_BINARY)"
      ],
      "metadata": {
        "id": "sumGiPLnU_UA"
      },
      "execution_count": null,
      "outputs": []
    },
    {
      "cell_type": "markdown",
      "source": [
        "invert image gray color"
      ],
      "metadata": {
        "id": "tBL52c8smjEb"
      }
    },
    {
      "cell_type": "code",
      "execution_count": null,
      "metadata": {
        "id": "zr7OzWnEQ3tP"
      },
      "outputs": [],
      "source": [
        "# Invert the image\n",
        "binary = ~binary"
      ]
    },
    {
      "cell_type": "markdown",
      "source": [
        "# Zhang-Suen Algorithm:\n",
        "\n",
        "Initialization:\n",
        "`skel` = numpy array of zeros with the same size as img (to store the skeleton).\n",
        "`done` = False (flag to stop iteration).\n",
        "\n",
        "# Iteration:\n",
        "While not done:\n",
        "# Thinning:\n",
        "Calculate the number of foreground (N_fg) and background (N_bg) neighbors for each pixel.\n",
        "Remove foreground pixels that meet the criteria:\n",
        "\n",
        "\n",
        "*   N_fg = 1\n",
        "*   N_bg >= 2\n",
        "\n",
        "\n",
        "\n",
        "Repeat the thinning step until no more pixels meet the criteria.\n",
        "# Linking Correction:\n",
        "Mark isolated foreground pixels.\n",
        "Connect isolated pixels to the nearest object based on the pixel values in the neighborhood.\n",
        "Check if all pixels have been processed (condition to stop iteration)."
      ],
      "metadata": {
        "id": "3Xh2ZY80ciWK"
      }
    },
    {
      "cell_type": "code",
      "execution_count": null,
      "metadata": {
        "id": "ay0xwHwyQ3tQ"
      },
      "outputs": [],
      "source": [
        "# Function to track progress and perform skeletonization\n",
        "def skeletonize(image):\n",
        "  size = np.size(image)\n",
        "  skel = np.zeros(image.shape, np.uint8)\n",
        "  eroded_pixels = []  # List to store eroded pixel count each iteration\n",
        "\n",
        "  ret, img = cv2.threshold(image, 127, 255, 0)\n",
        "  element = cv2.getStructuringElement(cv2.MORPH_CROSS, (3, 3))\n",
        "  done = False\n",
        "\n",
        "  while not done:\n",
        "    eroded = cv2.erode(img, element)\n",
        "    eroded_pixels.append(size - cv2.countNonZero(eroded))  # Track eroded pixels\n",
        "    temp = cv2.dilate(eroded, element)\n",
        "    temp = cv2.subtract(img, temp)\n",
        "    skel = cv2.bitwise_or(skel, temp)\n",
        "    img = eroded.copy()\n",
        "\n",
        "    zeros = size - cv2.countNonZero(img)\n",
        "    if zeros == size:\n",
        "      done = True\n",
        "\n",
        "  return skel, eroded_pixels"
      ]
    },
    {
      "cell_type": "code",
      "source": [
        "# Apply skeletonization\n",
        "skeleton, eroded_pixel_counts = skeletonize(binary)"
      ],
      "metadata": {
        "id": "Oe728IYnZVOx"
      },
      "execution_count": null,
      "outputs": []
    },
    {
      "cell_type": "code",
      "source": [
        "# Plot the images\n",
        "plt.figure(figsize=(12, 5))"
      ],
      "metadata": {
        "colab": {
          "base_uri": "https://localhost:8080/",
          "height": 52
        },
        "id": "OfsFWBkCZ8Ar",
        "outputId": "7283bedb-eecd-46ce-9a99-d6841bc7f14d"
      },
      "execution_count": null,
      "outputs": [
        {
          "output_type": "execute_result",
          "data": {
            "text/plain": [
              "<Figure size 1200x500 with 0 Axes>"
            ]
          },
          "metadata": {},
          "execution_count": 138
        },
        {
          "output_type": "display_data",
          "data": {
            "text/plain": [
              "<Figure size 1200x500 with 0 Axes>"
            ]
          },
          "metadata": {}
        }
      ]
    },
    {
      "cell_type": "code",
      "source": [
        "# Plot original binary image\n",
        "plt.subplot(1, 3, 1)\n",
        "plt.imshow(binary, cmap='gray')\n",
        "plt.title('Original Binary Image')\n",
        "plt.axis('off')"
      ],
      "metadata": {
        "colab": {
          "base_uri": "https://localhost:8080/",
          "height": 275
        },
        "id": "MR9SHBQnZ9ew",
        "outputId": "39498809-adbc-4a97-82cb-495650903e43"
      },
      "execution_count": null,
      "outputs": [
        {
          "output_type": "execute_result",
          "data": {
            "text/plain": [
              "(-0.5, 175.5, 239.5, -0.5)"
            ]
          },
          "metadata": {},
          "execution_count": 139
        },
        {
          "output_type": "display_data",
          "data": {
            "text/plain": [
              "<Figure size 640x480 with 1 Axes>"
            ],
            "image/png": "[encoded data removed]"
          },
          "metadata": {}
        }
      ]
    },
    {
      "cell_type": "markdown",
      "source": [
        "# Output:\n",
        "\n",
        "`skel` contains the skeleton representation of the image img."
      ],
      "metadata": {
        "id": "Caa9ui32dAlC"
      }
    },
    {
      "cell_type": "code",
      "source": [
        "# Plot skeletonized image\n",
        "plt.subplot(1, 3, 2)\n",
        "plt.imshow(skeleton, cmap='gray')  # Check if skeleton is uint8 now\n",
        "plt.title('Skeletonized Image')\n",
        "plt.axis('off')"
      ],
      "metadata": {
        "colab": {
          "base_uri": "https://localhost:8080/",
          "height": 275
        },
        "id": "ubXWNOjeZ-0C",
        "outputId": "b4e60e95-4962-4d0b-b780-57c5ef0d924f"
      },
      "execution_count": null,
      "outputs": [
        {
          "output_type": "execute_result",
          "data": {
            "text/plain": [
              "(-0.5, 175.5, 239.5, -0.5)"
            ]
          },
          "metadata": {},
          "execution_count": 140
        },
        {
          "output_type": "display_data",
          "data": {
            "text/plain": [
              "<Figure size 640x480 with 1 Axes>"
            ],
            "image/png": "[encoded data removed]"
          },
          "metadata": {}
        }
      ]
    },
    {
      "cell_type": "code",
      "source": [
        "# Plot progress chart (eroded pixels vs iterations)\n",
        "plt.subplot(1, 3, 3)\n",
        "plt.plot(range(len(eroded_pixel_counts)), eroded_pixel_counts)\n",
        "plt.xlabel('Iterations')\n",
        "plt.ylabel('Eroded Pixels')\n",
        "plt.title('Skeletonization Progress')\n",
        "\n",
        "plt.tight_layout()\n",
        "plt.show()"
      ],
      "metadata": {
        "colab": {
          "base_uri": "https://localhost:8080/",
          "height": 487
        },
        "id": "4n-T0U8HT9Vl",
        "outputId": "1fc7fbd2-a596-42eb-cfdc-8d70bd084ea3"
      },
      "execution_count": null,
      "outputs": [
        {
          "output_type": "display_data",
          "data": {
            "text/plain": [
              "<Figure size 640x480 with 1 Axes>"
            ],
            "image/png": "[encoded data removed]"
          },
          "metadata": {}
        }
      ]
    },
    {
      "cell_type": "markdown",
      "source": [],
      "metadata": {
        "id": "TkzjPwMHbrgz"
      }
    }
  ],
  "metadata": {
    "kernelspec": {
      "display_name": "Python 2",
      "language": "python",
      "name": "python2"
    },
    "language_info": {
      "codemirror_mode": {
        "name": "ipython",
        "version": 2
      },
      "file_extension": ".py",
      "mimetype": "text/x-python",
      "name": "python",
      "nbconvert_exporter": "python",
      "pygments_lexer": "ipython2",
      "version": "2.7.13"
    },
    "colab": {
      "provenance": [],
      "include_colab_link": true
    }
  },
  "nbformat": 4,
  "nbformat_minor": 0
}